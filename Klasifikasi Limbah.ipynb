{
 "cells": [
  {
   "cell_type": "markdown",
   "metadata": {},
   "source": [
    "# Klasifikasi Limbah\n",
    "\n",
    "------\n",
    "\n",
    "## Data Cleaning"
   ]
  },
  {
   "cell_type": "code",
   "execution_count": 1,
   "metadata": {},
   "outputs": [],
   "source": [
    "import os\n",
    "import numpy as np\n",
    "import pandas as pd\n",
    "import lxml.html as lh"
   ]
  },
  {
   "cell_type": "code",
   "execution_count": 2,
   "metadata": {},
   "outputs": [
    {
     "name": "stdout",
     "output_type": "stream",
     "text": [
      "data-limbah.html\n"
     ]
    }
   ],
   "source": [
    "path = \"/Users/bunny/myGit/DataStore/Limbah/\"\n",
    "table = \"\"\n",
    "\n",
    "for ls in os.listdir(path):\n",
    "    if ls.endswith(\".html\"):\n",
    "        print (ls)\n",
    "        with open(path + ls, 'r') as file:\n",
    "            table = file.read()"
   ]
  },
  {
   "cell_type": "code",
   "execution_count": 3,
   "metadata": {},
   "outputs": [],
   "source": [
    "doc = lh.fromstring(table)\n",
    "tr = doc.xpath(\"//tr\")"
   ]
  },
  {
   "cell_type": "code",
   "execution_count": 4,
   "metadata": {},
   "outputs": [],
   "source": [
    "feature_name = []\n",
    "\n",
    "for td in tr[0]:\n",
    "    feature_name.append(td.text_content())\n",
    "\n",
    "feature_name = [feature_name[2]] + feature_name[13:16] + [feature_name[17]]"
   ]
  },
  {
   "cell_type": "code",
   "execution_count": 5,
   "metadata": {},
   "outputs": [],
   "source": [
    "data = []\n",
    "\n",
    "for i in range(1, len(tr[1:])):\n",
    "    tr_ = tr[i]\n",
    "    ccol = 0\n",
    "    data_tmp = []\n",
    "    \n",
    "    for td in tr_:\n",
    "        if ccol == 2 or (ccol >= 13 and ccol <= 17) and ccol != 16:\n",
    "            data_tmp.append(td.text_content())\n",
    "        ccol += 1\n",
    "    \n",
    "    data.append(data_tmp)"
   ]
  },
  {
   "cell_type": "code",
   "execution_count": 6,
   "metadata": {},
   "outputs": [
    {
     "data": {
      "text/plain": [
       "10269"
      ]
     },
     "execution_count": 6,
     "metadata": {},
     "output_type": "execute_result"
    }
   ],
   "source": [
    "len(data)"
   ]
  },
  {
   "cell_type": "code",
   "execution_count": 7,
   "metadata": {},
   "outputs": [],
   "source": [
    "df = pd.DataFrame(data, columns=feature_name)"
   ]
  },
  {
   "cell_type": "code",
   "execution_count": 8,
   "metadata": {
    "scrolled": true
   },
   "outputs": [
    {
     "name": "stdout",
     "output_type": "stream",
     "text": [
      "<class 'pandas.core.frame.DataFrame'>\n",
      "RangeIndex: 1020 entries, 0 to 1019\n",
      "Data columns (total 5 columns):\n",
      "Nama Pengirim      1020 non-null object\n",
      "Kode Limbah        1020 non-null object\n",
      "Jenis Limbah       1020 non-null object\n",
      "Karakter Limbah    1020 non-null object\n",
      "Kemasan            1020 non-null object\n",
      "dtypes: object(5)\n",
      "memory usage: 39.9+ KB\n"
     ]
    }
   ],
   "source": [
    "df = df.drop_duplicates()\n",
    "df = df.reset_index(drop=True)\n",
    "df.info()"
   ]
  },
  {
   "cell_type": "code",
   "execution_count": 9,
   "metadata": {},
   "outputs": [],
   "source": [
    "df = df.drop([\"Nama Pengirim\"], axis=1)"
   ]
  },
  {
   "cell_type": "code",
   "execution_count": 10,
   "metadata": {},
   "outputs": [
    {
     "data": {
      "text/html": [
       "<div>\n",
       "<style scoped>\n",
       "    .dataframe tbody tr th:only-of-type {\n",
       "        vertical-align: middle;\n",
       "    }\n",
       "\n",
       "    .dataframe tbody tr th {\n",
       "        vertical-align: top;\n",
       "    }\n",
       "\n",
       "    .dataframe thead th {\n",
       "        text-align: right;\n",
       "    }\n",
       "</style>\n",
       "<table border=\"1\" class=\"dataframe\">\n",
       "  <thead>\n",
       "    <tr style=\"text-align: right;\">\n",
       "      <th></th>\n",
       "      <th>Kode Limbah</th>\n",
       "      <th>Jenis Limbah</th>\n",
       "      <th>Karakter Limbah</th>\n",
       "      <th>Kemasan</th>\n",
       "    </tr>\n",
       "  </thead>\n",
       "  <tbody>\n",
       "    <tr>\n",
       "      <th>307</th>\n",
       "      <td>B328-4</td>\n",
       "      <td>Printed circuit board (PCB)</td>\n",
       "      <td>Beracun (toxic - T)</td>\n",
       "      <td>Tanpa Kemasan</td>\n",
       "    </tr>\n",
       "    <tr>\n",
       "      <th>683</th>\n",
       "      <td>B107d</td>\n",
       "      <td>Limbah elektronik termasuk cathode ray tube (C...</td>\n",
       "      <td>Beracun (toxic - T)</td>\n",
       "      <td>Drum Plastik</td>\n",
       "    </tr>\n",
       "    <tr>\n",
       "      <th>481</th>\n",
       "      <td>A338-3</td>\n",
       "      <td>Residu sampel Limbah B3</td>\n",
       "      <td>Cairan Mudah menyala (ignitable - I)</td>\n",
       "      <td>Kemasan Karton atau plastik</td>\n",
       "    </tr>\n",
       "  </tbody>\n",
       "</table>\n",
       "</div>"
      ],
      "text/plain": [
       "    Kode Limbah                                       Jenis Limbah  \\\n",
       "307      B328-4                        Printed circuit board (PCB)   \n",
       "683       B107d  Limbah elektronik termasuk cathode ray tube (C...   \n",
       "481      A338-3                            Residu sampel Limbah B3   \n",
       "\n",
       "                          Karakter Limbah                      Kemasan  \n",
       "307                   Beracun (toxic - T)                Tanpa Kemasan  \n",
       "683                   Beracun (toxic - T)                 Drum Plastik  \n",
       "481  Cairan Mudah menyala (ignitable - I)  Kemasan Karton atau plastik  "
      ]
     },
     "execution_count": 10,
     "metadata": {},
     "output_type": "execute_result"
    }
   ],
   "source": [
    "df.sample(3)"
   ]
  },
  {
   "cell_type": "code",
   "execution_count": 11,
   "metadata": {},
   "outputs": [
    {
     "data": {
      "text/html": [
       "<div>\n",
       "<style scoped>\n",
       "    .dataframe tbody tr th:only-of-type {\n",
       "        vertical-align: middle;\n",
       "    }\n",
       "\n",
       "    .dataframe tbody tr th {\n",
       "        vertical-align: top;\n",
       "    }\n",
       "\n",
       "    .dataframe thead th {\n",
       "        text-align: right;\n",
       "    }\n",
       "</style>\n",
       "<table border=\"1\" class=\"dataframe\">\n",
       "  <thead>\n",
       "    <tr style=\"text-align: right;\">\n",
       "      <th></th>\n",
       "      <th>Kode</th>\n",
       "      <th>Sumber</th>\n",
       "      <th>Bahaya</th>\n",
       "    </tr>\n",
       "  </thead>\n",
       "  <tbody>\n",
       "    <tr>\n",
       "      <th>663</th>\n",
       "      <td>B329-4</td>\n",
       "      <td>Spesifik Umum</td>\n",
       "      <td>2</td>\n",
       "    </tr>\n",
       "    <tr>\n",
       "      <th>181</th>\n",
       "      <td>A2118</td>\n",
       "      <td>?</td>\n",
       "      <td>1</td>\n",
       "    </tr>\n",
       "    <tr>\n",
       "      <th>224</th>\n",
       "      <td>A2161</td>\n",
       "      <td>?</td>\n",
       "      <td>1</td>\n",
       "    </tr>\n",
       "  </tbody>\n",
       "</table>\n",
       "</div>"
      ],
      "text/plain": [
       "       Kode         Sumber Bahaya\n",
       "663  B329-4  Spesifik Umum      2\n",
       "181   A2118              ?      1\n",
       "224   A2161              ?      1"
      ]
     },
     "execution_count": 11,
     "metadata": {},
     "output_type": "execute_result"
    }
   ],
   "source": [
    "kode = pd.read_csv(\"./Kode/kode-limbah.csv\")\n",
    "kode.sample(3)"
   ]
  },
  {
   "cell_type": "code",
   "execution_count": 12,
   "metadata": {},
   "outputs": [
    {
     "data": {
      "text/html": [
       "<div>\n",
       "<style scoped>\n",
       "    .dataframe tbody tr th:only-of-type {\n",
       "        vertical-align: middle;\n",
       "    }\n",
       "\n",
       "    .dataframe tbody tr th {\n",
       "        vertical-align: top;\n",
       "    }\n",
       "\n",
       "    .dataframe thead th {\n",
       "        text-align: right;\n",
       "    }\n",
       "</style>\n",
       "<table border=\"1\" class=\"dataframe\">\n",
       "  <thead>\n",
       "    <tr style=\"text-align: right;\">\n",
       "      <th></th>\n",
       "      <th>Jenis</th>\n",
       "      <th>Bentuk</th>\n",
       "    </tr>\n",
       "  </thead>\n",
       "  <tbody>\n",
       "    <tr>\n",
       "      <th>57</th>\n",
       "      <td>Bahan atau produk yang tidak memenuhi spesifik...</td>\n",
       "      <td>Cair &amp; Padat</td>\n",
       "    </tr>\n",
       "    <tr>\n",
       "      <th>20</th>\n",
       "      <td>Larutan asam (pickling)</td>\n",
       "      <td>Cair</td>\n",
       "    </tr>\n",
       "    <tr>\n",
       "      <th>39</th>\n",
       "      <td>Debu fasilitas pengendalian pencemaran udara.</td>\n",
       "      <td>Padat</td>\n",
       "    </tr>\n",
       "  </tbody>\n",
       "</table>\n",
       "</div>"
      ],
      "text/plain": [
       "                                                Jenis        Bentuk\n",
       "57  Bahan atau produk yang tidak memenuhi spesifik...  Cair & Padat\n",
       "20                            Larutan asam (pickling)          Cair\n",
       "39      Debu fasilitas pengendalian pencemaran udara.         Padat"
      ]
     },
     "execution_count": 12,
     "metadata": {},
     "output_type": "execute_result"
    }
   ],
   "source": [
    "bentuk = pd.read_csv(\"./Kode/bentuk.csv\")\n",
    "bentuk.sample(3)"
   ]
  },
  {
   "cell_type": "code",
   "execution_count": 13,
   "metadata": {},
   "outputs": [],
   "source": [
    "df = df.join(kode.set_index(\"Kode\"), on=\"Kode Limbah\")\n",
    "df = df.join(bentuk.set_index(\"Jenis\"), on=\"Jenis Limbah\")"
   ]
  },
  {
   "cell_type": "code",
   "execution_count": 14,
   "metadata": {},
   "outputs": [],
   "source": [
    "df = df[[\"Kode Limbah\", \"Bentuk\", \"Karakter Limbah\", \"Sumber\", \"Bahaya\", \"Kemasan\"]]\n",
    "# df = df[[\"Kode Limbah\", \"Karakter Limbah\", \"Sumber\", \"Bahaya\", \"Kemasan\"]]"
   ]
  },
  {
   "cell_type": "code",
   "execution_count": 15,
   "metadata": {},
   "outputs": [],
   "source": [
    "df = df.astype(\"category\")"
   ]
  },
  {
   "cell_type": "markdown",
   "metadata": {},
   "source": [
    "## Data Exploration"
   ]
  },
  {
   "cell_type": "code",
   "execution_count": 16,
   "metadata": {
    "scrolled": true
   },
   "outputs": [
    {
     "data": {
      "text/html": [
       "<div>\n",
       "<style scoped>\n",
       "    .dataframe tbody tr th:only-of-type {\n",
       "        vertical-align: middle;\n",
       "    }\n",
       "\n",
       "    .dataframe tbody tr th {\n",
       "        vertical-align: top;\n",
       "    }\n",
       "\n",
       "    .dataframe thead th {\n",
       "        text-align: right;\n",
       "    }\n",
       "</style>\n",
       "<table border=\"1\" class=\"dataframe\">\n",
       "  <thead>\n",
       "    <tr style=\"text-align: right;\">\n",
       "      <th></th>\n",
       "      <th>Kode Limbah</th>\n",
       "      <th>Bentuk</th>\n",
       "      <th>Karakter Limbah</th>\n",
       "      <th>Sumber</th>\n",
       "      <th>Bahaya</th>\n",
       "      <th>Kemasan</th>\n",
       "    </tr>\n",
       "  </thead>\n",
       "  <tbody>\n",
       "    <tr>\n",
       "      <th>765</th>\n",
       "      <td>B109d</td>\n",
       "      <td>Padat</td>\n",
       "      <td>Beracun (toxic - T)</td>\n",
       "      <td>Tidak Spesifik</td>\n",
       "      <td>2</td>\n",
       "      <td>Karung Kain, plastik, kertas</td>\n",
       "    </tr>\n",
       "    <tr>\n",
       "      <th>399</th>\n",
       "      <td>A318-4</td>\n",
       "      <td>Padat</td>\n",
       "      <td>Beracun (toxic - T)</td>\n",
       "      <td>Spesifik Umum</td>\n",
       "      <td>1</td>\n",
       "      <td>Drum Logam</td>\n",
       "    </tr>\n",
       "    <tr>\n",
       "      <th>504</th>\n",
       "      <td>B327-5</td>\n",
       "      <td>Padat</td>\n",
       "      <td>Beracun (toxic - T)</td>\n",
       "      <td>Spesifik Umum</td>\n",
       "      <td>2</td>\n",
       "      <td>R.O Container</td>\n",
       "    </tr>\n",
       "  </tbody>\n",
       "</table>\n",
       "</div>"
      ],
      "text/plain": [
       "    Kode Limbah Bentuk      Karakter Limbah          Sumber Bahaya  \\\n",
       "765       B109d  Padat  Beracun (toxic - T)  Tidak Spesifik      2   \n",
       "399      A318-4  Padat  Beracun (toxic - T)   Spesifik Umum      1   \n",
       "504      B327-5  Padat  Beracun (toxic - T)   Spesifik Umum      2   \n",
       "\n",
       "                          Kemasan  \n",
       "765  Karung Kain, plastik, kertas  \n",
       "399                    Drum Logam  \n",
       "504                 R.O Container  "
      ]
     },
     "execution_count": 16,
     "metadata": {},
     "output_type": "execute_result"
    }
   ],
   "source": [
    "df.sample(3)"
   ]
  },
  {
   "cell_type": "code",
   "execution_count": 17,
   "metadata": {},
   "outputs": [
    {
     "data": {
      "text/plain": [
       "Padat           688\n",
       "Cair            319\n",
       "Cair & Padat     13\n",
       "Name: Bentuk, dtype: int64"
      ]
     },
     "execution_count": 17,
     "metadata": {},
     "output_type": "execute_result"
    }
   ],
   "source": [
    "df[\"Bentuk\"].value_counts()"
   ]
  },
  {
   "cell_type": "code",
   "execution_count": 18,
   "metadata": {},
   "outputs": [
    {
     "data": {
      "text/plain": [
       "Beracun (toxic - T)                      805\n",
       "Cairan Mudah menyala (ignitable - I)     100\n",
       "Infeksius (infectious - X)                42\n",
       "Padatan Mudah menyala (ignitable - I)     35\n",
       "Korosif (corrosive - C)                   33\n",
       "Padatan Mudah meledak (explosive – E)      4\n",
       "Cairan Mudah meledak (explosive – E)       1\n",
       "Name: Karakter Limbah, dtype: int64"
      ]
     },
     "execution_count": 18,
     "metadata": {},
     "output_type": "execute_result"
    }
   ],
   "source": [
    "df[\"Karakter Limbah\"].value_counts()"
   ]
  },
  {
   "cell_type": "code",
   "execution_count": 19,
   "metadata": {},
   "outputs": [
    {
     "data": {
      "text/plain": [
       "Tidak Spesifik     534\n",
       "Spesifik Umum      374\n",
       "Spesifik Khusus    111\n",
       "?                    1\n",
       "Name: Sumber, dtype: int64"
      ]
     },
     "execution_count": 19,
     "metadata": {},
     "output_type": "execute_result"
    }
   ],
   "source": [
    "df[\"Sumber\"].value_counts()"
   ]
  },
  {
   "cell_type": "code",
   "execution_count": 20,
   "metadata": {},
   "outputs": [
    {
     "data": {
      "text/plain": [
       "2    631\n",
       "1    389\n",
       "Name: Bahaya, dtype: int64"
      ]
     },
     "execution_count": 20,
     "metadata": {},
     "output_type": "execute_result"
    }
   ],
   "source": [
    "df[\"Bahaya\"].value_counts()"
   ]
  },
  {
   "cell_type": "code",
   "execution_count": 21,
   "metadata": {},
   "outputs": [
    {
     "data": {
      "text/plain": [
       "Drum Logam                      287\n",
       "Tanpa Kemasan                   218\n",
       "Jumbo Bag                       153\n",
       "Kemasan Karton atau plastik     122\n",
       "Box Besi                         51\n",
       "Tangki                           40\n",
       "Karung Kain, plastik, kertas     39\n",
       "Drum Plastik                     34\n",
       "IBC Tank                         26\n",
       "R.O Container                    20\n",
       "Jerycan                          12\n",
       "Wheel Bin                        10\n",
       "Drum kayu                         5\n",
       "Wadah Hopper                      1\n",
       "Gerbong Barang                    1\n",
       "                                  1\n",
       "Name: Kemasan, dtype: int64"
      ]
     },
     "execution_count": 21,
     "metadata": {},
     "output_type": "execute_result"
    }
   ],
   "source": [
    "df[\"Kemasan\"].value_counts()"
   ]
  },
  {
   "cell_type": "markdown",
   "metadata": {},
   "source": [
    "### Outlier"
   ]
  },
  {
   "cell_type": "code",
   "execution_count": 22,
   "metadata": {},
   "outputs": [
    {
     "data": {
      "text/html": [
       "<div>\n",
       "<style scoped>\n",
       "    .dataframe tbody tr th:only-of-type {\n",
       "        vertical-align: middle;\n",
       "    }\n",
       "\n",
       "    .dataframe tbody tr th {\n",
       "        vertical-align: top;\n",
       "    }\n",
       "\n",
       "    .dataframe thead th {\n",
       "        text-align: right;\n",
       "    }\n",
       "</style>\n",
       "<table border=\"1\" class=\"dataframe\">\n",
       "  <thead>\n",
       "    <tr style=\"text-align: right;\">\n",
       "      <th></th>\n",
       "      <th>Kode Limbah</th>\n",
       "      <th>Bentuk</th>\n",
       "      <th>Karakter Limbah</th>\n",
       "      <th>Sumber</th>\n",
       "      <th>Bahaya</th>\n",
       "      <th>Kemasan</th>\n",
       "    </tr>\n",
       "  </thead>\n",
       "  <tbody>\n",
       "    <tr>\n",
       "      <th>800</th>\n",
       "      <td>A2358</td>\n",
       "      <td>Cair</td>\n",
       "      <td>Beracun (toxic - T)</td>\n",
       "      <td>?</td>\n",
       "      <td>1</td>\n",
       "      <td>Drum Logam</td>\n",
       "    </tr>\n",
       "  </tbody>\n",
       "</table>\n",
       "</div>"
      ],
      "text/plain": [
       "    Kode Limbah Bentuk      Karakter Limbah Sumber Bahaya     Kemasan\n",
       "800       A2358   Cair  Beracun (toxic - T)      ?      1  Drum Logam"
      ]
     },
     "execution_count": 22,
     "metadata": {},
     "output_type": "execute_result"
    }
   ],
   "source": [
    "df[df[\"Sumber\"] == '?']"
   ]
  },
  {
   "cell_type": "code",
   "execution_count": 23,
   "metadata": {},
   "outputs": [
    {
     "data": {
      "text/html": [
       "<div>\n",
       "<style scoped>\n",
       "    .dataframe tbody tr th:only-of-type {\n",
       "        vertical-align: middle;\n",
       "    }\n",
       "\n",
       "    .dataframe tbody tr th {\n",
       "        vertical-align: top;\n",
       "    }\n",
       "\n",
       "    .dataframe thead th {\n",
       "        text-align: right;\n",
       "    }\n",
       "</style>\n",
       "<table border=\"1\" class=\"dataframe\">\n",
       "  <thead>\n",
       "    <tr style=\"text-align: right;\">\n",
       "      <th></th>\n",
       "      <th>Kode Limbah</th>\n",
       "      <th>Bentuk</th>\n",
       "      <th>Karakter Limbah</th>\n",
       "      <th>Sumber</th>\n",
       "      <th>Bahaya</th>\n",
       "      <th>Kemasan</th>\n",
       "    </tr>\n",
       "  </thead>\n",
       "  <tbody>\n",
       "    <tr>\n",
       "      <th>982</th>\n",
       "      <td>B105d</td>\n",
       "      <td>Cair</td>\n",
       "      <td>Cairan Mudah menyala (ignitable - I)</td>\n",
       "      <td>Tidak Spesifik</td>\n",
       "      <td>2</td>\n",
       "      <td></td>\n",
       "    </tr>\n",
       "  </tbody>\n",
       "</table>\n",
       "</div>"
      ],
      "text/plain": [
       "    Kode Limbah Bentuk                       Karakter Limbah          Sumber  \\\n",
       "982       B105d   Cair  Cairan Mudah menyala (ignitable - I)  Tidak Spesifik   \n",
       "\n",
       "    Bahaya Kemasan  \n",
       "982      2          "
      ]
     },
     "execution_count": 23,
     "metadata": {},
     "output_type": "execute_result"
    }
   ],
   "source": [
    "df[df[\"Kemasan\"] == \"\"]"
   ]
  }
 ],
 "metadata": {
  "kernelspec": {
   "display_name": "Python 3",
   "language": "python",
   "name": "python3"
  },
  "language_info": {
   "codemirror_mode": {
    "name": "ipython",
    "version": 3
   },
   "file_extension": ".py",
   "mimetype": "text/x-python",
   "name": "python",
   "nbconvert_exporter": "python",
   "pygments_lexer": "ipython3",
   "version": "3.7.0"
  }
 },
 "nbformat": 4,
 "nbformat_minor": 2
}
