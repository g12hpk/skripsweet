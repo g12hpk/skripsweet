{
 "cells": [
  {
   "cell_type": "markdown",
   "metadata": {},
   "source": [
    "# Klasifikasi Limbah\n",
    "\n",
    "------\n",
    "\n",
    "## Data Cleaning"
   ]
  },
  {
   "cell_type": "code",
   "execution_count": 1,
   "metadata": {},
   "outputs": [],
   "source": [
    "import os\n",
    "import numpy as np\n",
    "import pandas as pd\n",
    "import lxml.html as lh"
   ]
  },
  {
   "cell_type": "code",
   "execution_count": 2,
   "metadata": {},
   "outputs": [
    {
     "name": "stdout",
     "output_type": "stream",
     "text": [
      "data-limbah.html\n"
     ]
    }
   ],
   "source": [
    "# Bagian buat ngebuka / ngebaca dataset \"data-limbah.html\"\n",
    "# dataset diluar folder repository soalnya mengandung privasi\n",
    "\n",
    "# Ganti variable path sesuai dengan lokasi dataset\n",
    "# dataset ditaro di variable table\n",
    "path = \"/Users/bunny/myGit/DataStore/Limbah/\"\n",
    "table = \"\"\n",
    "\n",
    "for ls in os.listdir(path):\n",
    "    if ls.endswith(\".html\"):\n",
    "        print (ls)\n",
    "        with open(path + ls, 'r') as file:\n",
    "            table = file.read()"
   ]
  },
  {
   "cell_type": "code",
   "execution_count": 3,
   "metadata": {},
   "outputs": [],
   "source": [
    "# convert string ke html\n",
    "doc = lh.fromstring(table)\n",
    "\n",
    "# Ekstrak baris pada table\n",
    "# <tr>\n",
    "tr = doc.xpath(\"//tr\")"
   ]
  },
  {
   "cell_type": "code",
   "execution_count": 4,
   "metadata": {},
   "outputs": [],
   "source": [
    "# Ekstrak nama kolom di row pertama\n",
    "# nama kolom dimasukin ke variable feature_name\n",
    "feature_name = []\n",
    "\n",
    "for td in tr[0]:\n",
    "    feature_name.append(td.text_content())\n",
    "\n",
    "# Posisi kolom yang digunakan [2, 13, 14, 15, 17]\n",
    "# Nama Pengirim, Kode Limbah, Jenis Limbah, Karakter Limbah, Kemasan\n",
    "feature_name = [feature_name[2]] + feature_name[13:16] + [feature_name[17]]"
   ]
  },
  {
   "cell_type": "code",
   "execution_count": 5,
   "metadata": {},
   "outputs": [],
   "source": [
    "# Ekstrak data\n",
    "data = []\n",
    "\n",
    "for i in range(1, len(tr[1:])):\n",
    "    tr_ = tr[i]\n",
    "    ccol = 0\n",
    "    data_tmp = []\n",
    "    \n",
    "    for td in tr_:\n",
    "        # Filter kolom yang digunakan\n",
    "        if ccol == 2 or (ccol >= 13 and ccol <= 17) and ccol != 16:\n",
    "            data_tmp.append(td.text_content())\n",
    "        \n",
    "        # Menghitung kolom\n",
    "        ccol += 1\n",
    "    \n",
    "    data.append(data_tmp)"
   ]
  },
  {
   "cell_type": "code",
   "execution_count": 6,
   "metadata": {},
   "outputs": [
    {
     "data": {
      "text/plain": [
       "10269"
      ]
     },
     "execution_count": 6,
     "metadata": {},
     "output_type": "execute_result"
    }
   ],
   "source": [
    "# Cek jumlah data\n",
    "len(data)"
   ]
  },
  {
   "cell_type": "code",
   "execution_count": 7,
   "metadata": {},
   "outputs": [],
   "source": [
    "# Mumbuat dataframe\n",
    "df = pd.DataFrame(data, columns=feature_name)"
   ]
  },
  {
   "cell_type": "code",
   "execution_count": 8,
   "metadata": {
    "scrolled": true
   },
   "outputs": [
    {
     "name": "stdout",
     "output_type": "stream",
     "text": [
      "<class 'pandas.core.frame.DataFrame'>\n",
      "RangeIndex: 1020 entries, 0 to 1019\n",
      "Data columns (total 5 columns):\n",
      "Nama Pengirim      1020 non-null object\n",
      "Kode Limbah        1020 non-null object\n",
      "Jenis Limbah       1020 non-null object\n",
      "Karakter Limbah    1020 non-null object\n",
      "Kemasan            1020 non-null object\n",
      "dtypes: object(5)\n",
      "memory usage: 39.9+ KB\n"
     ]
    }
   ],
   "source": [
    "# Menghapus duplikat berdasarkan Nama Pengirim dan Kode Limbah\n",
    "# Nama Pengirim memiliki banyak data dengan Kode Limbah yang sama\n",
    "df = df.drop_duplicates()\n",
    "df = df.reset_index(drop=True)\n",
    "df.info()"
   ]
  },
  {
   "cell_type": "code",
   "execution_count": 9,
   "metadata": {},
   "outputs": [],
   "source": [
    "# Menghapus kolom Nama Pengirim (privasi)\n",
    "df = df.drop([\"Nama Pengirim\"], axis=1)"
   ]
  },
  {
   "cell_type": "code",
   "execution_count": 10,
   "metadata": {},
   "outputs": [
    {
     "data": {
      "text/html": [
       "<div>\n",
       "<style scoped>\n",
       "    .dataframe tbody tr th:only-of-type {\n",
       "        vertical-align: middle;\n",
       "    }\n",
       "\n",
       "    .dataframe tbody tr th {\n",
       "        vertical-align: top;\n",
       "    }\n",
       "\n",
       "    .dataframe thead th {\n",
       "        text-align: right;\n",
       "    }\n",
       "</style>\n",
       "<table border=\"1\" class=\"dataframe\">\n",
       "  <thead>\n",
       "    <tr style=\"text-align: right;\">\n",
       "      <th></th>\n",
       "      <th>Kode Limbah</th>\n",
       "      <th>Jenis Limbah</th>\n",
       "      <th>Karakter Limbah</th>\n",
       "      <th>Kemasan</th>\n",
       "    </tr>\n",
       "  </thead>\n",
       "  <tbody>\n",
       "    <tr>\n",
       "      <th>447</th>\n",
       "      <td>A307-1</td>\n",
       "      <td>Sludge dari proses produksi dan fasilitas peny...</td>\n",
       "      <td>Beracun (toxic - T)</td>\n",
       "      <td>IBC Tank</td>\n",
       "    </tr>\n",
       "    <tr>\n",
       "      <th>764</th>\n",
       "      <td>B109d</td>\n",
       "      <td>Filter bekas dari fasilitas pengendalian pence...</td>\n",
       "      <td>Beracun (toxic - T)</td>\n",
       "      <td>Kemasan Karton atau plastik</td>\n",
       "    </tr>\n",
       "    <tr>\n",
       "      <th>355</th>\n",
       "      <td>B105d</td>\n",
       "      <td>Minyak pelumas bekas antara lain minyak peluma...</td>\n",
       "      <td>Beracun (toxic - T)</td>\n",
       "      <td>Drum Logam</td>\n",
       "    </tr>\n",
       "  </tbody>\n",
       "</table>\n",
       "</div>"
      ],
      "text/plain": [
       "    Kode Limbah                                       Jenis Limbah  \\\n",
       "447      A307-1  Sludge dari proses produksi dan fasilitas peny...   \n",
       "764       B109d  Filter bekas dari fasilitas pengendalian pence...   \n",
       "355       B105d  Minyak pelumas bekas antara lain minyak peluma...   \n",
       "\n",
       "         Karakter Limbah                      Kemasan  \n",
       "447  Beracun (toxic - T)                     IBC Tank  \n",
       "764  Beracun (toxic - T)  Kemasan Karton atau plastik  \n",
       "355  Beracun (toxic - T)                   Drum Logam  "
      ]
     },
     "execution_count": 10,
     "metadata": {},
     "output_type": "execute_result"
    }
   ],
   "source": [
    "# Sampel hasil ekstraksi\n",
    "df.sample(3)"
   ]
  },
  {
   "cell_type": "code",
   "execution_count": 11,
   "metadata": {},
   "outputs": [
    {
     "data": {
      "text/html": [
       "<div>\n",
       "<style scoped>\n",
       "    .dataframe tbody tr th:only-of-type {\n",
       "        vertical-align: middle;\n",
       "    }\n",
       "\n",
       "    .dataframe tbody tr th {\n",
       "        vertical-align: top;\n",
       "    }\n",
       "\n",
       "    .dataframe thead th {\n",
       "        text-align: right;\n",
       "    }\n",
       "</style>\n",
       "<table border=\"1\" class=\"dataframe\">\n",
       "  <thead>\n",
       "    <tr style=\"text-align: right;\">\n",
       "      <th></th>\n",
       "      <th>Kode</th>\n",
       "      <th>Sumber</th>\n",
       "      <th>Bahaya</th>\n",
       "    </tr>\n",
       "  </thead>\n",
       "  <tbody>\n",
       "    <tr>\n",
       "      <th>722</th>\n",
       "      <td>B341-2</td>\n",
       "      <td>Spesifik Umum</td>\n",
       "      <td>2</td>\n",
       "    </tr>\n",
       "    <tr>\n",
       "      <th>363</th>\n",
       "      <td>A2300</td>\n",
       "      <td>?</td>\n",
       "      <td>1</td>\n",
       "    </tr>\n",
       "    <tr>\n",
       "      <th>192</th>\n",
       "      <td>A2129</td>\n",
       "      <td>?</td>\n",
       "      <td>1</td>\n",
       "    </tr>\n",
       "  </tbody>\n",
       "</table>\n",
       "</div>"
      ],
      "text/plain": [
       "       Kode         Sumber Bahaya\n",
       "722  B341-2  Spesifik Umum      2\n",
       "363   A2300              ?      1\n",
       "192   A2129              ?      1"
      ]
     },
     "execution_count": 11,
     "metadata": {},
     "output_type": "execute_result"
    }
   ],
   "source": [
    "# Load dataset kode berdasarkan PP\n",
    "kode = pd.read_csv(\"./Kode/kode-limbah.csv\")\n",
    "kode.sample(3)"
   ]
  },
  {
   "cell_type": "code",
   "execution_count": 12,
   "metadata": {},
   "outputs": [
    {
     "data": {
      "text/html": [
       "<div>\n",
       "<style scoped>\n",
       "    .dataframe tbody tr th:only-of-type {\n",
       "        vertical-align: middle;\n",
       "    }\n",
       "\n",
       "    .dataframe tbody tr th {\n",
       "        vertical-align: top;\n",
       "    }\n",
       "\n",
       "    .dataframe thead th {\n",
       "        text-align: right;\n",
       "    }\n",
       "</style>\n",
       "<table border=\"1\" class=\"dataframe\">\n",
       "  <thead>\n",
       "    <tr style=\"text-align: right;\">\n",
       "      <th></th>\n",
       "      <th>Jenis</th>\n",
       "      <th>Bentuk</th>\n",
       "    </tr>\n",
       "  </thead>\n",
       "  <tbody>\n",
       "    <tr>\n",
       "      <th>16</th>\n",
       "      <td>Residu proses produksi atau reaksi</td>\n",
       "      <td>Cair</td>\n",
       "    </tr>\n",
       "    <tr>\n",
       "      <th>31</th>\n",
       "      <td>Steel slag</td>\n",
       "      <td>Padat</td>\n",
       "    </tr>\n",
       "    <tr>\n",
       "      <th>4</th>\n",
       "      <td>Sludge proses produksi yang meliputi manufactu...</td>\n",
       "      <td>Padat</td>\n",
       "    </tr>\n",
       "  </tbody>\n",
       "</table>\n",
       "</div>"
      ],
      "text/plain": [
       "                                                Jenis Bentuk\n",
       "16                 Residu proses produksi atau reaksi   Cair\n",
       "31                                         Steel slag  Padat\n",
       "4   Sludge proses produksi yang meliputi manufactu...  Padat"
      ]
     },
     "execution_count": 12,
     "metadata": {},
     "output_type": "execute_result"
    }
   ],
   "source": [
    "# Load dataset bentuk\n",
    "bentuk = pd.read_csv(\"./Kode/bentuk.csv\")\n",
    "bentuk.sample(3)"
   ]
  },
  {
   "cell_type": "code",
   "execution_count": 13,
   "metadata": {},
   "outputs": [],
   "source": [
    "# Menggabungkan dataframe\n",
    "df = df.join(kode.set_index(\"Kode\"), on=\"Kode Limbah\")\n",
    "df = df.join(bentuk.set_index(\"Jenis\"), on=\"Jenis Limbah\")"
   ]
  },
  {
   "cell_type": "code",
   "execution_count": 14,
   "metadata": {},
   "outputs": [],
   "source": [
    "# Mengubah nilai bentuk berdasarkan karakter\n",
    "# Cairan Mudah menyala (ignitable - I) / Padatan Mudah menyala (ignitable - I)\n",
    "# Beberapa tidak sesuai\n",
    "df.loc[df[\"Karakter Limbah\"].str.startswith(\"Cair\"), \"Bentuk\"] = \"Cair\"\n",
    "df.loc[df[\"Karakter Limbah\"].str.startswith(\"Padat\"), \"Bentuk\"] = \"Padat\""
   ]
  },
  {
   "cell_type": "code",
   "execution_count": 15,
   "metadata": {},
   "outputs": [],
   "source": [
    "# Menampilkan data dengan bentuk \"Cair & Padat\"\n",
    "df = df[df[\"Bentuk\"] != \"Cair & Padat\"]"
   ]
  },
  {
   "cell_type": "code",
   "execution_count": 16,
   "metadata": {},
   "outputs": [],
   "source": [
    "# Mengubah nilai \"Karakter Limbah\"\n",
    "# Cairan Mudah menyala (ignitable - I) / Padatan Mudah menyala (ignitable - I)\n",
    "# Menjadi \"I\"\n",
    "df[\"Karakter Limbah\"] = df[\"Karakter Limbah\"].str[-2]"
   ]
  },
  {
   "cell_type": "code",
   "execution_count": 17,
   "metadata": {},
   "outputs": [],
   "source": [
    "# Filter dan mengurutkan kolom sesuai\n",
    "df = df[[\"Kode Limbah\", \"Bentuk\", \"Karakter Limbah\", \"Sumber\", \"Bahaya\", \"Kemasan\"]]\n",
    "# df = df[[\"Kode Limbah\", \"Karakter Limbah\", \"Sumber\", \"Bahaya\", \"Kemasan\"]]"
   ]
  },
  {
   "cell_type": "code",
   "execution_count": 18,
   "metadata": {},
   "outputs": [],
   "source": [
    "# Mengganti tipe kolom (disesuaikan)\n",
    "df.iloc[:, 1:] = df.astype(\"category\")"
   ]
  },
  {
   "cell_type": "code",
   "execution_count": 19,
   "metadata": {},
   "outputs": [],
   "source": [
    "# Export dataframe menjadi csv\n",
    "# df.to_csv(\"./data/limbah.csv\", index=False)"
   ]
  },
  {
   "cell_type": "markdown",
   "metadata": {},
   "source": [
    "## Data Exploration"
   ]
  },
  {
   "cell_type": "code",
   "execution_count": 20,
   "metadata": {
    "scrolled": true
   },
   "outputs": [
    {
     "data": {
      "text/html": [
       "<div>\n",
       "<style scoped>\n",
       "    .dataframe tbody tr th:only-of-type {\n",
       "        vertical-align: middle;\n",
       "    }\n",
       "\n",
       "    .dataframe tbody tr th {\n",
       "        vertical-align: top;\n",
       "    }\n",
       "\n",
       "    .dataframe thead th {\n",
       "        text-align: right;\n",
       "    }\n",
       "</style>\n",
       "<table border=\"1\" class=\"dataframe\">\n",
       "  <thead>\n",
       "    <tr style=\"text-align: right;\">\n",
       "      <th></th>\n",
       "      <th>Kode Limbah</th>\n",
       "      <th>Bentuk</th>\n",
       "      <th>Karakter Limbah</th>\n",
       "      <th>Sumber</th>\n",
       "      <th>Bahaya</th>\n",
       "      <th>Kemasan</th>\n",
       "    </tr>\n",
       "  </thead>\n",
       "  <tbody>\n",
       "    <tr>\n",
       "      <th>279</th>\n",
       "      <td>B108d</td>\n",
       "      <td>Cair</td>\n",
       "      <td>T</td>\n",
       "      <td>Tidak Spesifik</td>\n",
       "      <td>2</td>\n",
       "      <td>Jumbo Bag</td>\n",
       "    </tr>\n",
       "    <tr>\n",
       "      <th>27</th>\n",
       "      <td>B323-1</td>\n",
       "      <td>Padat</td>\n",
       "      <td>T</td>\n",
       "      <td>Spesifik Umum</td>\n",
       "      <td>2</td>\n",
       "      <td>Tangki</td>\n",
       "    </tr>\n",
       "    <tr>\n",
       "      <th>942</th>\n",
       "      <td>A337-1</td>\n",
       "      <td>Cair</td>\n",
       "      <td>X</td>\n",
       "      <td>Spesifik Umum</td>\n",
       "      <td>1</td>\n",
       "      <td>Kemasan Karton atau plastik</td>\n",
       "    </tr>\n",
       "  </tbody>\n",
       "</table>\n",
       "</div>"
      ],
      "text/plain": [
       "    Kode Limbah Bentuk Karakter Limbah          Sumber Bahaya  \\\n",
       "279       B108d   Cair               T  Tidak Spesifik      2   \n",
       "27       B323-1  Padat               T   Spesifik Umum      2   \n",
       "942      A337-1   Cair               X   Spesifik Umum      1   \n",
       "\n",
       "                         Kemasan  \n",
       "279                    Jumbo Bag  \n",
       "27                        Tangki  \n",
       "942  Kemasan Karton atau plastik  "
      ]
     },
     "execution_count": 20,
     "metadata": {},
     "output_type": "execute_result"
    }
   ],
   "source": [
    "df.sample(3)"
   ]
  },
  {
   "cell_type": "code",
   "execution_count": 21,
   "metadata": {},
   "outputs": [
    {
     "data": {
      "text/plain": [
       "Padat    690\n",
       "Cair     318\n",
       "Name: Bentuk, dtype: int64"
      ]
     },
     "execution_count": 21,
     "metadata": {},
     "output_type": "execute_result"
    }
   ],
   "source": [
    "df[\"Bentuk\"].value_counts()"
   ]
  },
  {
   "cell_type": "code",
   "execution_count": 22,
   "metadata": {},
   "outputs": [
    {
     "data": {
      "text/plain": [
       "T    793\n",
       "I    135\n",
       "X     42\n",
       "C     33\n",
       "E      5\n",
       "Name: Karakter Limbah, dtype: int64"
      ]
     },
     "execution_count": 22,
     "metadata": {},
     "output_type": "execute_result"
    }
   ],
   "source": [
    "df[\"Karakter Limbah\"].value_counts()"
   ]
  },
  {
   "cell_type": "code",
   "execution_count": 23,
   "metadata": {},
   "outputs": [
    {
     "data": {
      "text/plain": [
       "Tidak Spesifik     525\n",
       "Spesifik Umum      371\n",
       "Spesifik Khusus    111\n",
       "?                    1\n",
       "Name: Sumber, dtype: int64"
      ]
     },
     "execution_count": 23,
     "metadata": {},
     "output_type": "execute_result"
    }
   ],
   "source": [
    "df[\"Sumber\"].value_counts()"
   ]
  },
  {
   "cell_type": "code",
   "execution_count": 24,
   "metadata": {},
   "outputs": [
    {
     "data": {
      "text/plain": [
       "2    630\n",
       "1    378\n",
       "Name: Bahaya, dtype: int64"
      ]
     },
     "execution_count": 24,
     "metadata": {},
     "output_type": "execute_result"
    }
   ],
   "source": [
    "df[\"Bahaya\"].value_counts()"
   ]
  },
  {
   "cell_type": "code",
   "execution_count": 25,
   "metadata": {},
   "outputs": [
    {
     "data": {
      "text/plain": [
       "Drum Logam                      281\n",
       "Tanpa Kemasan                   218\n",
       "Jumbo Bag                       153\n",
       "Kemasan Karton atau plastik     121\n",
       "Box Besi                         51\n",
       "Tangki                           40\n",
       "Karung Kain, plastik, kertas     38\n",
       "Drum Plastik                     33\n",
       "IBC Tank                         25\n",
       "R.O Container                    20\n",
       "Wheel Bin                        10\n",
       "Jerycan                          10\n",
       "Drum kayu                         5\n",
       "Wadah Hopper                      1\n",
       "Gerbong Barang                    1\n",
       "                                  1\n",
       "Name: Kemasan, dtype: int64"
      ]
     },
     "execution_count": 25,
     "metadata": {},
     "output_type": "execute_result"
    }
   ],
   "source": [
    "df[\"Kemasan\"].value_counts()"
   ]
  },
  {
   "cell_type": "code",
   "execution_count": 26,
   "metadata": {},
   "outputs": [],
   "source": [
    "# Remove label yang kemunculannya kurang dari 100\n",
    "# df[~df[\"Kemasan\"].isin(df[\"Kemasan\"].value_counts()[df[\"Kemasan\"].value_counts() < 100].index)]"
   ]
  },
  {
   "cell_type": "markdown",
   "metadata": {},
   "source": [
    "### Outlier"
   ]
  },
  {
   "cell_type": "code",
   "execution_count": 27,
   "metadata": {},
   "outputs": [],
   "source": [
    "df = df[df[\"Sumber\"] != '?']"
   ]
  },
  {
   "cell_type": "code",
   "execution_count": 28,
   "metadata": {},
   "outputs": [],
   "source": [
    "df = df[df[\"Kemasan\"] != \"\"]"
   ]
  },
  {
   "cell_type": "markdown",
   "metadata": {},
   "source": [
    "**Note**. \n",
    "\n",
    "1. Kolom bentuk punya 12 data bernilai \"Cair & Padat\" (hapus atau ubah)\n",
    "2. Outlier nilai \"?\" dan kemasan tanpa nama \"\" muncul sekali (hapus atau ubah)\n",
    "3. Nilai tidak seimbang"
   ]
  },
  {
   "cell_type": "markdown",
   "metadata": {},
   "source": [
    "## Classification"
   ]
  },
  {
   "cell_type": "code",
   "execution_count": 29,
   "metadata": {},
   "outputs": [],
   "source": [
    "from sklearn.preprocessing import LabelEncoder\n",
    "from sklearn.naive_bayes import MultinomialNB\n",
    "from sklearn.svm import SVC\n",
    "from sklearn.model_selection import cross_val_score"
   ]
  },
  {
   "cell_type": "code",
   "execution_count": 30,
   "metadata": {},
   "outputs": [],
   "source": [
    "label_bentuk = LabelEncoder()\n",
    "label_karakter = LabelEncoder()\n",
    "label_sumber = LabelEncoder()\n",
    "label_bahaya = LabelEncoder()\n",
    "label_kemasan = LabelEncoder()"
   ]
  },
  {
   "cell_type": "code",
   "execution_count": 31,
   "metadata": {},
   "outputs": [
    {
     "data": {
      "text/plain": [
       "LabelEncoder()"
      ]
     },
     "execution_count": 31,
     "metadata": {},
     "output_type": "execute_result"
    }
   ],
   "source": [
    "label_bentuk.fit(df[\"Bentuk\"])\n",
    "label_karakter.fit(df[\"Karakter Limbah\"])\n",
    "label_sumber.fit(df[\"Sumber\"])\n",
    "label_bahaya.fit(df[\"Bahaya\"])\n",
    "label_kemasan.fit(df[\"Kemasan\"])"
   ]
  },
  {
   "cell_type": "code",
   "execution_count": 32,
   "metadata": {},
   "outputs": [],
   "source": [
    "df[\"Kode Bentuk\"] = label_bentuk.transform(df[\"Bentuk\"])\n",
    "df[\"Kode Karakter\"] = label_karakter.transform(df[\"Karakter Limbah\"])\n",
    "df[\"Kode Sumber\"] = label_sumber.transform(df[\"Sumber\"])\n",
    "df[\"Kode Bahaya\"] = label_bahaya.transform(df[\"Bahaya\"])\n",
    "df[\"Kode Kemasan\"] = label_kemasan.transform(df[\"Kemasan\"])"
   ]
  },
  {
   "cell_type": "code",
   "execution_count": 33,
   "metadata": {},
   "outputs": [],
   "source": [
    "X = df[[\"Kode Bentuk\", \"Kode Karakter\", \"Kode Sumber\", \"Kode Bahaya\"]].values\n",
    "y = df[\"Kode Kemasan\"]"
   ]
  },
  {
   "cell_type": "code",
   "execution_count": 34,
   "metadata": {},
   "outputs": [
    {
     "data": {
      "text/plain": [
       "MultinomialNB(alpha=1.0, class_prior=None, fit_prior=True)"
      ]
     },
     "execution_count": 34,
     "metadata": {},
     "output_type": "execute_result"
    }
   ],
   "source": [
    "clf = MultinomialNB()\n",
    "clf.fit(X, y)\n",
    "\n",
    "# Support Vector Machine\n",
    "# clf = SVC(gamma=\"auto\")\n",
    "# clf.fit(X, y)"
   ]
  },
  {
   "cell_type": "code",
   "execution_count": 35,
   "metadata": {},
   "outputs": [
    {
     "name": "stdout",
     "output_type": "stream",
     "text": [
      "[0.39805825 0.27722772 0.26237624 0.38888889 0.41414141]\n"
     ]
    },
    {
     "name": "stderr",
     "output_type": "stream",
     "text": [
      "/Library/Frameworks/Python.framework/Versions/3.7/lib/python3.7/site-packages/sklearn/model_selection/_split.py:626: Warning: The least populated class in y has only 1 members, which is too few. The minimum number of members in any class cannot be less than n_splits=5.\n",
      "  % (min_groups, self.n_splits)), Warning)\n"
     ]
    }
   ],
   "source": [
    "print (cross_val_score(clf, X, y, cv = 5))"
   ]
  }
 ],
 "metadata": {
  "kernelspec": {
   "display_name": "Python 3",
   "language": "python",
   "name": "python3"
  },
  "language_info": {
   "codemirror_mode": {
    "name": "ipython",
    "version": 3
   },
   "file_extension": ".py",
   "mimetype": "text/x-python",
   "name": "python",
   "nbconvert_exporter": "python",
   "pygments_lexer": "ipython3",
   "version": "3.7.0"
  }
 },
 "nbformat": 4,
 "nbformat_minor": 2
}
